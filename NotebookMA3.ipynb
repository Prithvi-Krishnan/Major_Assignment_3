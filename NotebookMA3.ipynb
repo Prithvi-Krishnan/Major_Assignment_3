{
 "cells": [
  {
   "cell_type": "code",
   "execution_count": 80,
   "metadata": {},
   "outputs": [
    {
     "name": "stdout",
     "output_type": "stream",
     "text": [
      "Number of nodes (authors): 1552\n",
      "Number of edges (co-authorships): 3049\n"
     ]
    }
   ],
   "source": [
    "# Libraries\n",
    "import pandas as pd\n",
    "import networkx as nx\n",
    "from itertools import combinations\n",
    "import json\n",
    "from networkx.readwrite import json_graph\n",
    "\n",
    "# Load the CSV file\n",
    "data = pd.read_csv(\"data_scopus.csv\")\n",
    "\n",
    "# Drop rows without necessary data\n",
    "data_cleaned = data.dropna(subset=['Year', 'Authors with affiliations', 'Author(s) ID'])\n",
    "\n",
    "# Create a new NetworkX graph\n",
    "G = nx.Graph()\n",
    "\n",
    "# Process each row in the cleaned dataset\n",
    "for index, row in data_cleaned.iterrows():\n",
    "    # Split author IDs by semicolon and strip any leading/trailing whitespace\n",
    "    author_ids = [author_id.strip() for author_id in row['Author(s) ID'].split(';') if author_id]\n",
    "\n",
    "    # Add each author ID as a node\n",
    "    for author_id in author_ids:\n",
    "        if author_id not in G:\n",
    "            G.add_node(author_id)\n",
    "\n",
    "    # Add edges between all pairs of author IDs for this publication\n",
    "    for author_pair in combinations(author_ids, 2):\n",
    "        G.add_edge(*author_pair)\n",
    "\n",
    "# Basic information about the graph\n",
    "num_nodes = G.number_of_nodes()\n",
    "num_edges = G.number_of_edges()\n",
    "\n",
    "print(f\"Number of nodes (authors): {num_nodes}\")\n",
    "print(f\"Number of edges (co-authorships): {num_edges}\")\n",
    "\n",
    "# Convert the NetworkX graph to a format compatible with D3.js\n",
    "data_for_d3 = json_graph.node_link_data(G)\n",
    "\n",
    "# Write the data to a JSON file\n",
    "with open('network_graph.json', 'w') as f:\n",
    "    json.dump(data_for_d3, f)"
   ]
  }
 ],
 "metadata": {
  "kernelspec": {
   "display_name": "Python 3",
   "language": "python",
   "name": "python3"
  },
  "language_info": {
   "codemirror_mode": {
    "name": "ipython",
    "version": 3
   },
   "file_extension": ".py",
   "mimetype": "text/x-python",
   "name": "python",
   "nbconvert_exporter": "python",
   "pygments_lexer": "ipython3",
   "version": "3.11.6"
  }
 },
 "nbformat": 4,
 "nbformat_minor": 2
}
